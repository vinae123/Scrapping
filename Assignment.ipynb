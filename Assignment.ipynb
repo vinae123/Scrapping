{
 "cells": [
  {
   "attachments": {},
   "cell_type": "markdown",
   "metadata": {},
   "source": [
    "### Importing all the neccesary files"
   ]
  },
  {
   "cell_type": "code",
   "execution_count": 12,
   "metadata": {},
   "outputs": [],
   "source": [
    "import pandas as pd\n",
    "from selenium import webdriver\n",
    "from selenium.webdriver.common.by import By\n",
    "from bs4 import BeautifulSoup \n",
    "from selenium.webdriver.support.ui import WebDriverWait\n",
    "from selenium.webdriver.support import expected_conditions as EC\n",
    "\n"
   ]
  },
  {
   "cell_type": "code",
   "execution_count": 13,
   "metadata": {},
   "outputs": [],
   "source": [
    "driver = webdriver.Chrome()\n",
    "driver.get(\"https://qcpi.questcdn.com/cdn/posting/?group=1950787&provider=1950787\")\n",
    "page = driver.page_source\n"
   ]
  },
  {
   "cell_type": "code",
   "execution_count": 14,
   "metadata": {},
   "outputs": [],
   "source": [
    "Value_notes = []\n",
    "Closing_Date = []\n",
    "description = []"
   ]
  },
  {
   "cell_type": "code",
   "execution_count": 15,
   "metadata": {},
   "outputs": [],
   "source": [
    "quest_number = driver.find_element(By.XPATH,\"//a[@onclick ='prevnext(8526724); return false;' ]\")\n",
    "quest_number.click()"
   ]
  },
  {
   "cell_type": "code",
   "execution_count": 16,
   "metadata": {},
   "outputs": [],
   "source": [
    "for i in range(5):\n",
    "    driver.implicitly_wait(5)\n",
    "    tables = driver.find_elements(By.XPATH,'//table[@class=\"table table-borderless posting-table\"]')\n",
    "    # element = WebDriverWait(driver, 10).until(EC.presence_of_element_located((By.ID, \"myDynamicElement\")))\n",
    "    # print(len(tables))\n",
    "    # time.sleep(4)\n",
    "    b = tables[1].text\n",
    "    date = b[b.find(\":\"):b.find('\\n')]\n",
    "    Est_value = b[b.rindex(':'): ]\n",
    "    Closing_Date.append(date)\n",
    "    Value_notes.append(Est_value)\n",
    "    Description = tables[2].text\n",
    "    Description = Description.split('\\n')\n",
    "    Des = Description[Description[2].find(':') : ] \n",
    "    description.append(Des)  \n",
    "    driver.implicitly_wait(5)\n",
    "    Next_bttn = WebDriverWait(driver, 10).until(EC.element_to_be_clickable((By.XPATH, \"//button[@id='id_prevnext_next']\")))\n",
    "    Next_bttn.click()"
   ]
  },
  {
   "cell_type": "code",
   "execution_count": 24,
   "metadata": {},
   "outputs": [
    {
     "data": {
      "text/plain": [
       "[[], [], [], [], []]"
      ]
     },
     "execution_count": 24,
     "metadata": {},
     "output_type": "execute_result"
    }
   ],
   "source": []
  },
  {
   "cell_type": "code",
   "execution_count": 17,
   "metadata": {},
   "outputs": [],
   "source": [
    "# table = driver.find_elements(By.XPATH,'//table[@class=\"table table-borderless posting-table\"]')\n",
    "# print(table)\n",
    "# for i in table:\n",
    "#     print(i.text)"
   ]
  },
  {
   "cell_type": "code",
   "execution_count": 18,
   "metadata": {},
   "outputs": [],
   "source": [
    "# t = driver.find_elements(By.XPATH,'//table[@class=\"table table-borderless posting-table\"]')\n",
    "# b = t[1].text\n",
    "# date = b[b.find(\":\"):b.find('\\n')]\n",
    "# Est_value = b[b.rindex(':') + 1  : ]\n"
   ]
  },
  {
   "cell_type": "code",
   "execution_count": 19,
   "metadata": {},
   "outputs": [],
   "source": [
    "# Description = t[2].text\n",
    "# Description = Description.split('\\n')"
   ]
  },
  {
   "cell_type": "code",
   "execution_count": null,
   "metadata": {},
   "outputs": [],
   "source": []
  },
  {
   "cell_type": "code",
   "execution_count": null,
   "metadata": {},
   "outputs": [],
   "source": []
  },
  {
   "cell_type": "code",
   "execution_count": null,
   "metadata": {},
   "outputs": [],
   "source": []
  },
  {
   "cell_type": "code",
   "execution_count": null,
   "metadata": {},
   "outputs": [],
   "source": []
  }
 ],
 "metadata": {
  "kernelspec": {
   "display_name": "Python 3",
   "language": "python",
   "name": "python3"
  },
  "language_info": {
   "codemirror_mode": {
    "name": "ipython",
    "version": 3
   },
   "file_extension": ".py",
   "mimetype": "text/x-python",
   "name": "python",
   "nbconvert_exporter": "python",
   "pygments_lexer": "ipython3",
   "version": "3.10.11"
  },
  "orig_nbformat": 4
 },
 "nbformat": 4,
 "nbformat_minor": 2
}
